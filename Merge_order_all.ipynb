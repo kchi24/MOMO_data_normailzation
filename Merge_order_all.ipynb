{
 "cells": [
  {
   "cell_type": "code",
   "execution_count": 5,
   "id": "7796af71-be1d-4d24-82f1-63a78278332d",
   "metadata": {},
   "outputs": [
    {
     "name": "stdout",
     "output_type": "stream",
     "text": [
      "✅ File Parquet đã được lưu: D:\\Momo_shopee_normalization\\MOMO_DATA_shopee\\Raw\\Dữ liệu Orders_shopee\\Order_cancel_completed\\merged_order_all.parquet\n"
     ]
    }
   ],
   "source": [
    "import pandas as pd\n",
    "import os\n",
    "import glob\n",
    "\n",
    "# --- Bước 1: Thư mục chứa file CSV ---\n",
    "folder_path = r\"D:\\Momo_shopee_normalization\\MOMO_DATA_shopee\\Raw\\Dữ liệu Orders_shopee\\Order_cancel_completed\"  # thay bằng đường dẫn folder của bạn\n",
    "\n",
    "# --- Bước 2: Lấy danh sách tất cả file CSV trong folder ---\n",
    "all_files = glob.glob(os.path.join(folder_path, \"*.xlsx\"))\n",
    "\n",
    "# --- Bước 3: Đọc và ghép tất cả file ---\n",
    "dfs = []\n",
    "for file in all_files:\n",
    "    df = pd.read_excel(file)\n",
    "    dfs.append(df)\n",
    "\n",
    "merged_df = pd.concat(dfs, ignore_index=True)\n",
    "\n",
    "# --- Bước 4: Chuẩn hóa cột thời gian và sắp xếp ---\n",
    "time_col = 'Ngày đặt hàng'  # đổi tên cột thời gian nếu khác\n",
    "merged_df[time_col] = pd.to_datetime(merged_df[time_col], errors='coerce')\n",
    "merged_df = merged_df.sort_values(by=time_col)\n",
    "\n",
    "# --- Bước 5: Loại bỏ trùng lặp ---\n",
    "merged_df = merged_df.drop_duplicates()\n",
    "\n",
    "# --- Bước 6: Lưu file Parquet ---\n",
    "output_file = os.path.join(folder_path, \"merged_order_all.parquet\")\n",
    "merged_df.to_parquet(output_file, index=False)\n",
    "print(f\"✅ File Parquet đã được lưu: {output_file}\")\n"
   ]
  },
  {
   "cell_type": "code",
   "execution_count": 9,
   "id": "b3aacd21-3559-4b4f-aeb9-1b34c3a4de89",
   "metadata": {},
   "outputs": [],
   "source": [
    "import pandas as pd"
   ]
  },
  {
   "cell_type": "code",
   "execution_count": 10,
   "id": "487eef46-f84d-4980-88ff-074bd159b19f",
   "metadata": {},
   "outputs": [],
   "source": [
    "df = pd.read_parquet(r\"D:\\Momo_shopee_normalization\\MOMO_DATA_shopee\\Raw\\Dữ liệu Orders_shopee\\Order_cancel_completed\\merged_order_all.parquet\")"
   ]
  },
  {
   "cell_type": "code",
   "execution_count": null,
   "id": "fa7e8256-871d-4d66-9c82-18cf2bba9ac9",
   "metadata": {},
   "outputs": [],
   "source": [
    "df"
   ]
  },
  {
   "cell_type": "code",
   "execution_count": null,
   "id": "4d3eb50f-d95d-48be-abc2-caf0ad07570b",
   "metadata": {},
   "outputs": [],
   "source": [
    "import pandas as pd\n",
    "\n",
    "# 1. Load dữ liệu\n",
    "df = pd.read_parquet(r\"D:\\Momo_shopee_normalization\\MOMO_DATA_shopee\\Raw\\Dữ liệu Orders_shopee\\Order_cancel_completed\\merged_order_all.parquet\")\n",
    "\n",
    "# 2. Định nghĩa từ khóa cho từng dòng sản phẩm\n",
    "categories = {\n",
    "    \"tã bỉm dán momii\": [\"tã bỉm dán momii\"],\n",
    "    \"tã bỉm quần momii\": [\"tã bỉm quần momii\"],\n",
    "    \"tã bỉm quần momoji air dry\": [\"tã bỉm quần momoji air dry\"],\n",
    "    \"tã bỉm dán momoji air dry\": [\"tã bỉm dán momoji air dry\"],\n",
    "    \"tã bỉm dán momoji\": [\"tã bỉm dán momoji\"],\n",
    "    \"tã bỉm quần momoji\": [\"tã bỉm quần momoji\"],\n",
    "    \"băng vệ sinh\": [\"băng vệ sinh\", \"bvs\"],\n",
    "    \"thanh chắn giường gia đình văn hóa\": [\"thanh chắn giường gia đình văn hóa\"],\n",
    "    \"thảm xốp\": [\"thảm xốp\"]\n",
    "}\n",
    "\n",
    "# 3. Hàm xác định dòng sản phẩm\n",
    "def map_category(product_name):\n",
    "    name = str(product_name).lower()\n",
    "    for cat, kw_list in categories.items():\n",
    "        if any(kw in name for kw in kw_list):\n",
    "            return cat\n",
    "    return \"Khác\"\n",
    "\n",
    "# 4. Thêm cột \"Dòng sản phẩm\"\n",
    "df[\"Dòng sản phẩm\"] = df[\"Tên sản phẩm\"].apply(map_category)\n",
    "\n",
    "# 5. Kiểm tra kết quả\n",
    "print(df[[\"Tên sản phẩm\", \"Dòng sản phẩm\"]].head(20))\n"
   ]
  },
  {
   "cell_type": "code",
   "execution_count": null,
   "id": "3fb903e4-5993-4446-ad81-48c8f212eda8",
   "metadata": {},
   "outputs": [],
   "source": []
  },
  {
   "cell_type": "code",
   "execution_count": null,
   "id": "fb4b9ae7-0753-4100-88fe-fc387038757e",
   "metadata": {},
   "outputs": [],
   "source": []
  }
 ],
 "metadata": {
  "kernelspec": {
   "display_name": "Python 3 (ipykernel)",
   "language": "python",
   "name": "python3"
  },
  "language_info": {
   "codemirror_mode": {
    "name": "ipython",
    "version": 3
   },
   "file_extension": ".py",
   "mimetype": "text/x-python",
   "name": "python",
   "nbconvert_exporter": "python",
   "pygments_lexer": "ipython3",
   "version": "3.13.5"
  }
 },
 "nbformat": 4,
 "nbformat_minor": 5
}
